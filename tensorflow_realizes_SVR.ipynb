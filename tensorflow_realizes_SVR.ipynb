{
 "cells": [
  {
   "cell_type": "code",
   "execution_count": 1,
   "metadata": {
    "collapsed": true
   },
   "outputs": [],
   "source": [
    "import tensorflow as tf\n",
    "import numpy as np\n",
    "import matplotlib.pyplot as plt\n",
    "import requests"
   ]
  },
  {
   "cell_type": "code",
   "execution_count": 2,
   "metadata": {
    "collapsed": true
   },
   "outputs": [],
   "source": [
    "sess = tf.InteractiveSession()"
   ]
  },
  {
   "cell_type": "code",
   "execution_count": 3,
   "metadata": {
    "collapsed": true
   },
   "outputs": [],
   "source": [
    "from sklearn import datasets"
   ]
  },
  {
   "cell_type": "code",
   "execution_count": 4,
   "metadata": {
    "collapsed": true
   },
   "outputs": [],
   "source": [
    "iris = datasets.load_iris()"
   ]
  },
  {
   "cell_type": "code",
   "execution_count": 5,
   "metadata": {
    "collapsed": true
   },
   "outputs": [],
   "source": [
    "x = iris.data[:,3]\n",
    "y = iris.data[:,2]"
   ]
  },
  {
   "cell_type": "code",
   "execution_count": 6,
   "metadata": {
    "collapsed": true
   },
   "outputs": [],
   "source": [
    "#split train and test datasets\n",
    "train_indices = np.random.choice(len(x),size=round(len(x)*0.8),replace=False)\n",
    "test_indices = np.array(list(set(range(len(x)))-set(train_indices)))\n",
    "x_train = x[train_indices]\n",
    "y_train = y[train_indices]\n",
    "x_test = x[test_indices]\n",
    "y_test = y[test_indices]"
   ]
  },
  {
   "cell_type": "code",
   "execution_count": 7,
   "metadata": {
    "collapsed": true
   },
   "outputs": [],
   "source": [
    "batch_size = 50\n",
    "epochs = 200\n",
    "epsilon = 0.8"
   ]
  },
  {
   "cell_type": "code",
   "execution_count": 8,
   "metadata": {
    "collapsed": true
   },
   "outputs": [],
   "source": [
    "x_input = tf.placeholder(tf.float32,[None,1])\n",
    "y_target = tf.placeholder(tf.float32,[None,1])\n",
    "w = tf.Variable(tf.random_normal([1,1],stddev=0.05))\n",
    "b = tf.Variable(tf.random_normal([1,1],stddev=0.05))"
   ]
  },
  {
   "cell_type": "code",
   "execution_count": 9,
   "metadata": {
    "collapsed": true
   },
   "outputs": [],
   "source": [
    "model_output = tf.add(tf.matmul(x_input,w),b)"
   ]
  },
  {
   "cell_type": "code",
   "execution_count": 10,
   "metadata": {
    "collapsed": true
   },
   "outputs": [],
   "source": [
    "loss = tf.reduce_mean(tf.maximum(0.0,tf.subtract(tf.abs(tf.subtract(model_output,y_target)),epsilon)))"
   ]
  },
  {
   "cell_type": "code",
   "execution_count": 11,
   "metadata": {
    "collapsed": true
   },
   "outputs": [],
   "source": [
    "optimizer = tf.train.GradientDescentOptimizer(0.015).minimize(loss)"
   ]
  },
  {
   "cell_type": "code",
   "execution_count": 12,
   "metadata": {
    "scrolled": true
   },
   "outputs": [
    {
     "name": "stdout",
     "output_type": "stream",
     "text": [
      "train loss is : 1.2368,test loss is 1.1252\n",
      "train loss is : 0.1443,test loss is 0.0920\n",
      "train loss is : 0.0387,test loss is 0.0280\n",
      "train loss is : 0.0203,test loss is 0.0272\n"
     ]
    }
   ],
   "source": [
    "tf.global_variables_initializer().run()\n",
    "train_loss = []\n",
    "test_loss = []\n",
    "for i in range(1,epochs+1):\n",
    "    rand_index = np.random.choice(len(x_train),size=batch_size)\n",
    "    x_batch = x_train[rand_index][:,np.newaxis]\n",
    "    y_batch = y_train[rand_index][:,np.newaxis]\n",
    "    optimizer.run(feed_dict={x_input:x_batch,y_target:y_batch})\n",
    "    temp_train_loss = loss.eval(feed_dict={x_input:x_train[:,np.newaxis],y_target:y_train[:,np.newaxis]})\n",
    "    train_loss.append(temp_train_loss)\n",
    "    temp_test_loss = loss.eval(feed_dict={x_input:x_test[:,np.newaxis],y_target:y_test[:,np.newaxis]})\n",
    "    test_loss.append(temp_test_loss)\n",
    "    \n",
    "    if i % 50 == 0:\n",
    "        print('train loss is : {:.4f},test loss is {:.4f}'.format(temp_train_loss,temp_test_loss))"
   ]
  },
  {
   "cell_type": "code",
   "execution_count": 13,
   "metadata": {
    "collapsed": true
   },
   "outputs": [],
   "source": [
    "slope = w.eval()[0][0]\n",
    "intercept = b.eval()[0][0]"
   ]
  },
  {
   "cell_type": "code",
   "execution_count": 14,
   "metadata": {
    "scrolled": true
   },
   "outputs": [
    {
     "data": {
      "image/png": "[encoded data removed]",
      "text/plain": [
       "<matplotlib.figure.Figure at 0xe2e2208>"
      ]
     },
     "metadata": {},
     "output_type": "display_data"
    }
   ],
   "source": [
    "fit_values = []\n",
    "for i in x:\n",
    "    fit_values.append(slope*i+intercept)\n",
    "plt.plot(x,fit_values,color='red',label='SVR line')\n",
    "plt.plot(x,np.array(fit_values)+epsilon,linestyle=':',color='g',alpha=0.4)\n",
    "plt.plot(x,np.array(fit_values)-epsilon,linestyle=':',color='g',alpha=0.4)\n",
    "# plt.fill_between(x,np.array(fit_values)+epsilon,np.array(fit_values)-epsilon,color='g',alpha=0.1)\n",
    "plt.scatter(x,y,label='data points')\n",
    "plt.xlabel('sepal width',size=12)\n",
    "plt.ylabel('sepal length',size=12)\n",
    "plt.title('SVR realizaiton with tensorflow')\n",
    "plt.legend(loc='best')\n",
    "plt.show()"
   ]
  },
  {
   "cell_type": "code",
   "execution_count": 15,
   "metadata": {
    "scrolled": true
   },
   "outputs": [
    {
     "data": {
      "image/png": "[encoded data removed]",
      "text/plain": [
       "<matplotlib.figure.Figure at 0xe2cfc18>"
      ]
     },
     "metadata": {},
     "output_type": "display_data"
    }
   ],
   "source": [
    "plt.plot(range(1,epochs+1),test_loss,label='test loss')\n",
    "plt.plot(range(1,epochs+1),train_loss,label='train loss',linestyle='--')\n",
    "plt.xlabel('num of epochs',size=12)\n",
    "plt.ylabel('accuracy',size=12)\n",
    "plt.legend()\n",
    "plt.show()"
   ]
  },
  {
   "cell_type": "code",
   "execution_count": 16,
   "metadata": {
    "collapsed": true
   },
   "outputs": [],
   "source": [
    "import os"
   ]
  },
  {
   "cell_type": "code",
   "execution_count": 18,
   "metadata": {},
   "outputs": [
    {
     "data": {
      "text/plain": [
       "'D:\\\\git_repository\\\\tensorflow_studying'"
      ]
     },
     "execution_count": 18,
     "metadata": {},
     "output_type": "execute_result"
    }
   ],
   "source": [
    "os.getcwd()"
   ]
  }
 ],
 "metadata": {
  "kernelspec": {
   "display_name": "Python 3",
   "language": "python",
   "name": "python3"
  },
  "language_info": {
   "codemirror_mode": {
    "name": "ipython",
    "version": 3
   },
   "file_extension": ".py",
   "mimetype": "text/x-python",
   "name": "python",
   "nbconvert_exporter": "python",
   "pygments_lexer": "ipython3",
   "version": "3.6.3"
  }
 },
 "nbformat": 4,
 "nbformat_minor": 2
}
